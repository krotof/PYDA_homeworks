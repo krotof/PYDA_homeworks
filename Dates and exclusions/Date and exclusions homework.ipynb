{
 "cells": [
  {
   "cell_type": "code",
   "execution_count": 4,
   "metadata": {},
   "outputs": [],
   "source": [
    "def date_range(start_date, end_date):\n",
    "    from datetime import datetime\n",
    "    from datetime import timedelta\n",
    "    start_date_datetime = datetime.strptime(start_date, '%Y-%m-%d')\n",
    "    end_date_datetime = datetime.strptime(end_date, '%Y-%m-%d')\n",
    "    \n",
    "    current_dt = start_date_datetime\n",
    "    while current_dt <= end_date_datetime:\n",
    "        print(current_dt.strftime('%Y-%m-%d'))\n",
    "        current_dt += timedelta(days=1)"
   ]
  },
  {
   "cell_type": "code",
   "execution_count": 14,
   "metadata": {},
   "outputs": [],
   "source": [
    "def date_range_ext(start_date, end_date):\n",
    "    from datetime import datetime\n",
    "    from datetime import timedelta\n",
    "    try:\n",
    "        start_date_datetime = datetime.strptime(start_date, '%Y-%m-%d')\n",
    "    except ValueError:\n",
    "        print('Ошибка: start_date имеет неверный формат')\n",
    "        return \n",
    "    try:\n",
    "        end_date_datetime = datetime.strptime(end_date, '%Y-%m-%d')\n",
    "    except ValueError:\n",
    "        print('Ошибка: end_date имеет неверный формат')\n",
    "        return \n",
    "    \n",
    "    if start_date_datetime > end_date_datetime:\n",
    "        print('Ошибка: start_date больше, чем end_date')\n",
    "        return \n",
    "    \n",
    "    current_dt = start_date_datetime\n",
    "    while current_dt <= end_date_datetime:\n",
    "        print(current_dt.strftime('%Y-%m-%d'))\n",
    "        current_dt += timedelta(days=1)"
   ]
  },
  {
   "cell_type": "code",
   "execution_count": 20,
   "metadata": {},
   "outputs": [],
   "source": [
    "def check_dates(stream):\n",
    "    from datetime import datetime\n",
    "    for data in stream:\n",
    "        try:\n",
    "            check_date = datetime.strptime(data, '%Y-%m-%d')\n",
    "            print(f\"{data} - True\")\n",
    "        except ValueError:\n",
    "            print(f\"{data} - False\")"
   ]
  }
 ],
 "metadata": {
  "kernelspec": {
   "display_name": "Python 3",
   "language": "python",
   "name": "python3"
  },
  "language_info": {
   "codemirror_mode": {
    "name": "ipython",
    "version": 3
   },
   "file_extension": ".py",
   "mimetype": "text/x-python",
   "name": "python",
   "nbconvert_exporter": "python",
   "pygments_lexer": "ipython3",
   "version": "3.7.4"
  }
 },
 "nbformat": 4,
 "nbformat_minor": 2
}
