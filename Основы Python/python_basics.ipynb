{
 "cells": [
  {
   "cell_type": "markdown",
   "metadata": {},
   "source": [
    "**Задание 1**. Даны 2 строки: *long_phrase* и *short_phrase*. \n",
    "Напишите код, который проверяет действительно ли длинная фраза *long_phrase* длиннее короткой *short_phrase*. И выводит *True* или *False* в зависимости от результата сравнения."
   ]
  },
  {
   "cell_type": "code",
   "execution_count": 6,
   "metadata": {},
   "outputs": [],
   "source": [
    "long_phrase = 'Насколько проще было бы писать программы, если бы не заказчики'\n",
    "short_phrase = '640Кб должно хватить для любых задач. Билл Гейтс (по легенде)'"
   ]
  },
  {
   "cell_type": "code",
   "execution_count": 7,
   "metadata": {},
   "outputs": [
    {
     "name": "stdout",
     "output_type": "stream",
     "text": [
      "True\n"
     ]
    }
   ],
   "source": [
    "if len(long_phrase) > len(short_phrase):\n",
    "    print('True')\n",
    "else:\n",
    "    print('False')"
   ]
  },
  {
   "cell_type": "markdown",
   "metadata": {},
   "source": [
    "**Задание 2**. Дано значение объема файла в байтах (*в мегабайте 2^20 байт*). Напишите перевод этого значения в мегабайты в формате: \"*Объем файла равен 213.68Mb*\"."
   ]
  },
  {
   "cell_type": "code",
   "execution_count": 10,
   "metadata": {},
   "outputs": [
    {
     "name": "stdout",
     "output_type": "stream",
     "text": [
      "Объем файла равен 286.1Mb\n"
     ]
    }
   ],
   "source": [
    "bytes_value = 300000000\n",
    "convert_value = 2**20\n",
    "mbytes_value = bytes_value / convert_value\n",
    "print(f\"Объем файла равен {round(mbytes_value, 2)}Mb\")"
   ]
  },
  {
   "cell_type": "markdown",
   "metadata": {},
   "source": [
    "**Задание 3**. Разработать приложение для определения знака зодиака по дате рождения. Пример:\n",
    "\n",
    "Введите месяц: март\n",
    "\n",
    "Введите число: 6\n",
    "\n",
    "Вывод:\n",
    "Рыбы"
   ]
  },
  {
   "cell_type": "code",
   "execution_count": 18,
   "metadata": {},
   "outputs": [
    {
     "name": "stdout",
     "output_type": "stream",
     "text": [
      "Введите месяц: ИЮнь\n",
      "Введите число: 11\n",
      "Близнецы\n"
     ]
    }
   ],
   "source": [
    "zodiac_month = input('Введите месяц: ').lower()\n",
    "zodiac_date = int(input('Введите число: '))\n",
    "value = ''\n",
    "\n",
    "if (zodiac_month == 'январь' and zodiac_date >= 20) or (zodiac_month == 'февраль' and zodiac_date <= 18):\n",
    "    value = 'Водолей'\n",
    "elif (zodiac_month == 'февраль' and zodiac_date >= 19) or (zodiac_month == 'март' and zodiac_date <= 20):\n",
    "    value = 'Рыбы'\n",
    "elif (zodiac_month == 'март' and zodiac_date >= 21) or (zodiac_month == 'апрель' and zodiac_date <= 19):\n",
    "    value = 'Овен'\n",
    "elif (zodiac_month == 'апрель' and zodiac_date >= 20) or (zodiac_month == 'май' and zodiac_date <= 20):\n",
    "    value = 'Телец'\n",
    "elif (zodiac_month == 'май' and zodiac_date >= 21) or (zodiac_month == 'июнь' and zodiac_date <= 21):\n",
    "    value = 'Близнецы'\n",
    "elif (zodiac_month == 'июнь' and zodiac_date >= 22) or (zodiac_month == 'июль' and zodiac_date <= 22):\n",
    "    value = 'Рак'\n",
    "elif (zodiac_month == 'июль' and zodiac_date >= 23) or (zodiac_month == 'август' and zodiac_date <= 22):\n",
    "    value = 'Лев'\n",
    "elif (zodiac_month == 'август' and zodiac_date >= 23) or (zodiac_month == 'сентябрь' and zodiac_date <= 22):\n",
    "    value = 'Дева'\n",
    "elif (zodiac_month == 'сентябрь' and zodiac_date >= 23) or (zodiac_month == 'октябрь' and zodiac_date <= 22):\n",
    "    value = 'Весы'\n",
    "elif (zodiac_month == 'октябрь' and zodiac_date >= 23) or (zodiac_month == 'ноябрь' and zodiac_date <= 21):\n",
    "    value = 'Скорпион'\n",
    "elif (zodiac_month == 'ноябрь' and zodiac_date >= 22) or (zodiac_month == 'декабрь' and zodiac_date <= 21):\n",
    "    value = 'Стрелец'\n",
    "elif (zodiac_month == 'декабрь' and zodiac_date >= 22) or (zodiac_month == 'январь' and zodiac_date <= 19):\n",
    "    value = 'Козерог'\n",
    "else:\n",
    "    value = 'Неверная дата!'\n",
    "    \n",
    "months31 = ['январь','март','май','июль','август','октябрь','декабрь']\n",
    "months30 = ['апрель','июнь','сентябрь','ноябрь']\n",
    "if zodiac_date < 1 or (zodiac_month == 'февраль' and zodiac_date > 29):\n",
    "    value = 'Неверная дата!'\n",
    "if zodiac_month in months31 and zodiac_date > 31:\n",
    "    value = 'Неверная дата!'\n",
    "if zodiac_month in months30 and zodiac_date > 30:\n",
    "    value = 'Неверная дата!'\n",
    "\n",
    "print(value)"
   ]
  },
  {
   "cell_type": "markdown",
   "metadata": {},
   "source": [
    "**Задание 4**. Нужно разработать приложение для финансового планирования.\n",
    "Приложение учитывает сколько уходит на ипотеку, \"на жизнь\" и сколько нужно отложить на пенсию.\n",
    "Пользователь вводит:\n",
    "- заработанную плату в месяц.\n",
    "- сколько процентов от ЗП уходит на ипотеку.\n",
    "- сколько процентов от ЗП уходит \"на жизнь\".\n",
    "- сколько раз приходит премия в год.\n",
    "\n",
    "Остальная часть заработанной платы откладывается на пенсию.\n",
    "\n",
    "Также пользователю приходит премия в размере зарплаты, от которой половина уходит на отпуск, а вторая половина откладывается.\n",
    "\n",
    "Программа должна учитывать сколько премий было в год.\n",
    "\n",
    "Нужно вывести сколько денег тратит пользователь на ипотеку и сколько он накопит за год.\n",
    "\n",
    "Пример:\n",
    "\n",
    "Введите заработанную плату в месяц: 100000\n",
    "\n",
    "Введите сколько процентов уходит на ипотеку: 30\n",
    "\n",
    "Введите сколько процентов уходит на жизнь: 50\n",
    "\n",
    "Введите количество премий за год: 2\n",
    "\n",
    "Вывод:\n",
    "На ипотеку было потрачено: 360000 рублей\n",
    "Было накоплено: 340000 рублей"
   ]
  },
  {
   "cell_type": "code",
   "execution_count": 21,
   "metadata": {},
   "outputs": [
    {
     "name": "stdout",
     "output_type": "stream",
     "text": [
      "Введите заработанную плату в месяц: 100000\n",
      "Введите сколько процентов уходит на ипотеку: 30\n",
      "Введите сколько процентов уходит на жизнь: 50\n",
      "Введите количество премий за год: 2\n",
      "На ипотеку было потрачено: 360000 рублей Было накоплено: 340000 рублей\n"
     ]
    }
   ],
   "source": [
    "salary = int(input('Введите заработанную плату в месяц: '))\n",
    "credit = int(input('Введите сколько процентов уходит на ипотеку: '))/100\n",
    "lifestyle = int(input('Введите сколько процентов уходит на жизнь: '))/100\n",
    "benefits = int(input('Введите количество премий за год: '))\n",
    "\n",
    "ipoteca = salary * credit * 12\n",
    "savings = salary * (1 - (credit + lifestyle)) * 12 + benefits * salary / 2\n",
    "print(f\"На ипотеку было потрачено: {int(round(ipoteca,0))} рублей Было накоплено: {int(round(savings,0))} рублей\")"
   ]
  },
  {
   "cell_type": "code",
   "execution_count": null,
   "metadata": {},
   "outputs": [],
   "source": []
  }
 ],
 "metadata": {
  "kernelspec": {
   "display_name": "Python 3",
   "language": "python",
   "name": "python3"
  },
  "language_info": {
   "codemirror_mode": {
    "name": "ipython",
    "version": 3
   },
   "file_extension": ".py",
   "mimetype": "text/x-python",
   "name": "python",
   "nbconvert_exporter": "python",
   "pygments_lexer": "ipython3",
   "version": "3.7.4"
  }
 },
 "nbformat": 4,
 "nbformat_minor": 2
}
