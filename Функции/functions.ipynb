{
 "cells": [
  {
   "cell_type": "markdown",
   "metadata": {},
   "source": [
    "Вы работаете секретарем и вам постоянно приходят различные документы. Вы должны быть очень внимательны, чтобы не потерять ни один документ. Каталог документов хранится в следующем виде:"
   ]
  },
  {
   "cell_type": "code",
   "execution_count": 32,
   "metadata": {},
   "outputs": [],
   "source": [
    "documents = [\n",
    "    {'type': 'passport', 'number': '2207 876234', 'name': 'Василий Гупкин'},\n",
    "    {'type': 'invoice', 'number': '11-2', 'name': 'Геннадий Покемонов'},\n",
    "    {'type': 'insurance', 'number': '10006', 'name': 'Аристарх Павлов'}\n",
    "]"
   ]
  },
  {
   "cell_type": "markdown",
   "metadata": {},
   "source": [
    "Перечень полок, на которых находятся документы хранится в следующем виде:"
   ]
  },
  {
   "cell_type": "code",
   "execution_count": 33,
   "metadata": {},
   "outputs": [],
   "source": [
    "directories = {\n",
    "    '1': ['2207 876234', '11-2'],\n",
    "    '2': ['10006'],\n",
    "    '3': []\n",
    "}"
   ]
  },
  {
   "cell_type": "code",
   "execution_count": 10,
   "metadata": {},
   "outputs": [],
   "source": [
    "def return_people(num):\n",
    "    for value in documents:\n",
    "        if value['number'] == num:\n",
    "            print(value['name'])"
   ]
  },
  {
   "cell_type": "code",
   "execution_count": 11,
   "metadata": {},
   "outputs": [],
   "source": [
    "def return_shelf(num):\n",
    "    for key, value in directories.items():\n",
    "        if num in value:\n",
    "            print(key)"
   ]
  },
  {
   "cell_type": "code",
   "execution_count": 15,
   "metadata": {},
   "outputs": [],
   "source": [
    "def print_list():\n",
    "    for value in documents:\n",
    "        print(f\"{value['type']} \\\"{value['number']}\\\" \\\"{value['name']}\\\"\")"
   ]
  },
  {
   "cell_type": "code",
   "execution_count": 20,
   "metadata": {},
   "outputs": [],
   "source": [
    "def add_shelf(num):\n",
    "    if num not in directories.keys():\n",
    "        directories[num] = []\n",
    "    else:\n",
    "        print('Полка с таким номером уже существует')"
   ]
  },
  {
   "cell_type": "code",
   "execution_count": 23,
   "metadata": {},
   "outputs": [],
   "source": [
    "def del_doc(num):\n",
    "    doc_list = []\n",
    "    for value in documents:\n",
    "        doc_list.append(value['number'])\n",
    "    if num in doc_list:\n",
    "        index = 0\n",
    "        for value in documents:\n",
    "            if value['number'] == num:\n",
    "                del documents[index]\n",
    "            index += 1\n",
    "        for value in directories.values():\n",
    "            if num in value:\n",
    "                value.remove(num)\n",
    "        print('Документ удален')\n",
    "    else:\n",
    "        print('Документ с таким номером не существует')"
   ]
  },
  {
   "cell_type": "code",
   "execution_count": 30,
   "metadata": {},
   "outputs": [],
   "source": [
    "def move_doc(num, shelf):\n",
    "    doc_list = []\n",
    "    shelves_list = []\n",
    "    for value in documents:\n",
    "        doc_list.append(value['number'])\n",
    "    for key in directories.keys():\n",
    "        shelves_list.append(key)\n",
    "    if num not in doc_list:\n",
    "        print('Документ с таким номером не существует')\n",
    "    elif shelf not in shelves_list:\n",
    "        print('Полка с таким номером не существует')\n",
    "    else:\n",
    "        for value in directories.values():\n",
    "            if num in value:\n",
    "                value.remove(num)\n",
    "        directories[shelf].append(num)\n",
    "        print('Документ перемещен')"
   ]
  },
  {
   "cell_type": "code",
   "execution_count": 34,
   "metadata": {},
   "outputs": [],
   "source": [
    "def add_doc(num, doc_type, author, shelf):\n",
    "    documents.append({'type': doc_type, 'number': num, 'name': author})\n",
    "    directories[shelf].append(num)\n",
    "    print('Документ добавлен')"
   ]
  },
  {
   "cell_type": "code",
   "execution_count": 35,
   "metadata": {},
   "outputs": [],
   "source": [
    "def set_commands(command):\n",
    "    if command == 'p':\n",
    "        return_people(input('Введите номер документа: '))\n",
    "    elif command == 's':\n",
    "        return_self(input('Введите номер документа: '))\n",
    "    elif command == 'l':\n",
    "        print_list()\n",
    "    elif command == 'as':\n",
    "        add_shelf(input('Введите номер новой полки: '))\n",
    "    elif command == 'd':\n",
    "        del_doc(input('Введите номер документа: '))\n",
    "    elif command == 'm':\n",
    "        move_doc(input('Введите номер документа: '), input('Введите номер полки: '))\n",
    "    elif command == 'a':\n",
    "        add_doc(input('Введите номер документа: '), input('Введите тип документа: '), input('Введите имя владельца: '), input('Введите номер полки: '))\n",
    "    else:\n",
    "        print('Такой команды не существует')"
   ]
  },
  {
   "cell_type": "code",
   "execution_count": 37,
   "metadata": {},
   "outputs": [],
   "source": [
    "def main():\n",
    "    command = input('Введите команду: ')\n",
    "    set_commands(command)"
   ]
  },
  {
   "cell_type": "code",
   "execution_count": 38,
   "metadata": {},
   "outputs": [
    {
     "name": "stdout",
     "output_type": "stream",
     "text": [
      "Введите команду: p\n",
      "Введите номер документа: 11-2\n",
      "Геннадий Покемонов\n"
     ]
    }
   ],
   "source": [
    "main()"
   ]
  },
  {
   "cell_type": "markdown",
   "metadata": {},
   "source": [
    "Необходимо реализовать пользовательские команды (внимание! это не название функций, которые должны быть выразительными, а команды, которые вводит пользователь, чтобы получить необходимый результат):\n",
    "  \n",
    "- p – people – команда, которая спросит номер документа и выведет имя человека, которому он принадлежит;  \n",
    "- s – shelf – команда, которая спросит номер документа и выведет номер полки, на которой он находится  \n",
    "Правильно обработайте ситуацию, когда пользователь будет вводить несуществующий документ.\n",
    "- l – list – команда, которая выведет список всех документов в формате   \n",
    "**passport \"2207 876234\" \"Василий Гупкин\"**  \n",
    "- as – add shelf – команда, которая спросит номер новой полки и добавит ее в перечень\n",
    "- d – delete – команда, которая спросит номер документа и удалит его из каталога и из перечня полок. Предусмотрите сценарий, когда пользователь вводит несуществующий документ;  \n",
    "- m – move – команда, которая спросит номер документа и целевую полку и переместит его с текущей полки на целевую. Корректно обработайте кейсы, когда пользователь пытается переместить несуществующий документ или переместить документ на несуществующую полку;  \n",
    "- a – add – команда, которая добавит новый документ в каталог и в перечень полок, спросив его номер, тип, имя владельца и номер полки, на котором он будет храниться."
   ]
  }
 ],
 "metadata": {
  "kernelspec": {
   "display_name": "Python 3",
   "language": "python",
   "name": "python3"
  },
  "language_info": {
   "codemirror_mode": {
    "name": "ipython",
    "version": 3
   },
   "file_extension": ".py",
   "mimetype": "text/x-python",
   "name": "python",
   "nbconvert_exporter": "python",
   "pygments_lexer": "ipython3",
   "version": "3.7.4"
  }
 },
 "nbformat": 4,
 "nbformat_minor": 2
}
