{
 "cells": [
  {
   "cell_type": "markdown",
   "metadata": {},
   "source": [
    "**Задание 1.** Напишите функцию, которая принимает на вход строку и проверяет является ли она валидным транспортным номером. Если да, то функция должна возвращать отдельно номер и регион."
   ]
  },
  {
   "cell_type": "code",
   "execution_count": 1,
   "metadata": {},
   "outputs": [],
   "source": [
    "import re"
   ]
  },
  {
   "cell_type": "code",
   "execution_count": 14,
   "metadata": {},
   "outputs": [],
   "source": [
    "def checkValid(reg):\n",
    "    pattern = '([авекмнорстух]{1})(\\d{3})([авекмнорстух]{2})(\\d{2,3})'\n",
    "    if re.match(pattern, reg, flags = re.I):\n",
    "        result = re.findall(pattern, reg)\n",
    "        print(f'Валидный номер. Номер машины — {result[0][0]}{result[0][1]}{result[0][2]}. Код региона — {result[0][3]}')\n",
    "        \n",
    "    else:\n",
    "        print('Невалидный номер')"
   ]
  },
  {
   "cell_type": "code",
   "execution_count": 15,
   "metadata": {},
   "outputs": [
    {
     "name": "stdout",
     "output_type": "stream",
     "text": [
      "Валидный номер. Номер машины — о391см. Код региона — 11\n"
     ]
    }
   ],
   "source": [
    "checkValid('о391см11')"
   ]
  },
  {
   "attachments": {},
   "cell_type": "markdown",
   "metadata": {},
   "source": [
    "**Задание 2**. Напишите функцию, которая проверяет e-mail адрес на валидность по стандарту  http://www.w3.org/Protocols/rfc822/. Для этого постарайтесь написать (в крайнем случае найти) самый полный шаблон для проверки e-mail адресов через регулярное выражение. Разберитесь и напишите примеры, какие ваш шаблон может не охватить."
   ]
  },
  {
   "cell_type": "code",
   "execution_count": 2,
   "metadata": {},
   "outputs": [],
   "source": [
    "def checkMail(mail):\n",
    "    pattern = '(\\w.*)@(\\w.*).([a-zа-яё].)'\n",
    "    if re.match(pattern, mail, flags = re.I):\n",
    "        print('Валидный e-mail')\n",
    "    else:\n",
    "        print('Невалидный e-mail')"
   ]
  },
  {
   "cell_type": "code",
   "execution_count": 10,
   "metadata": {},
   "outputs": [
    {
     "name": "stdout",
     "output_type": "stream",
     "text": [
      "Валидный e-mail\n"
     ]
    }
   ],
   "source": [
    "checkMail('vasya_poup-kine.123@mail.ru.')"
   ]
  },
  {
   "cell_type": "markdown",
   "metadata": {},
   "source": [
    "Видно, что шаблон не обрабатывает наличие точки в конце. В остальном все работает верно"
   ]
  },
  {
   "cell_type": "markdown",
   "metadata": {},
   "source": [
    "**Задание 3.** Напишите функцию, которая будет удалять все последовательные повторы слов из заданной строки при помощи регулярных выражений."
   ]
  },
  {
   "cell_type": "code",
   "execution_count": 29,
   "metadata": {},
   "outputs": [
    {
     "name": "stdout",
     "output_type": "stream",
     "text": [
      "привет пока\n"
     ]
    }
   ],
   "source": [
    "input_str = 'привет привет пока пока'\n",
    "result = re.sub(r'\\b(\\w+)( \\1\\b)+', r'\\1', input_str)\n",
    "print(result)"
   ]
  },
  {
   "cell_type": "markdown",
   "metadata": {},
   "source": [
    "**Задание 4**. Напишите функцию, которая будет проверять номер сотового телефона на валидность, если он валиден, то переводить его в формат:   \n",
    "+7(xxx)-xxx-xx-xx  \n",
    "Постарайтесь предусмотреть как можно больше адекватных форматов изначального ввода номера.\n",
    "Примеры валидных форматов:\n",
    "- +7 955 555-55-55;\n",
    "- 9555555555;\n",
    "- 8(955)555-55-55;\n",
    "- +7 955 555 55 55;\n",
    "- 7(955) 555-55-55;\n",
    "- +7 955+555+55+55."
   ]
  },
  {
   "cell_type": "code",
   "execution_count": 31,
   "metadata": {},
   "outputs": [],
   "source": [
    "def checkPhone(phone):\n",
    "    pattern = '(\\+{0,1})([78]{0,1})([ ]{0,1})([(]{0,1})([0-9]{3})([)]{0,1})([\\+ ]{0,1})(\\d{3})([-\\+ ]{0,1})(\\d{2})([-\\+ ]{0,1})(\\d{2})'\n",
    "    result = re.sub(pattern, r'+7(\\5)-\\8-\\10-\\12', phone)\n",
    "    print(result)"
   ]
  },
  {
   "cell_type": "code",
   "execution_count": 33,
   "metadata": {},
   "outputs": [
    {
     "name": "stdout",
     "output_type": "stream",
     "text": [
      "+7(955)-555-55-55\n"
     ]
    }
   ],
   "source": [
    "checkPhone('9555555555')"
   ]
  }
 ],
 "metadata": {
  "kernelspec": {
   "display_name": "Python 3",
   "language": "python",
   "name": "python3"
  },
  "language_info": {
   "codemirror_mode": {
    "name": "ipython",
    "version": 3
   },
   "file_extension": ".py",
   "mimetype": "text/x-python",
   "name": "python",
   "nbconvert_exporter": "python",
   "pygments_lexer": "ipython3",
   "version": "3.7.4"
  }
 },
 "nbformat": 4,
 "nbformat_minor": 2
}
